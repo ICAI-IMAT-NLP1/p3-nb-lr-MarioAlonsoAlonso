{
 "cells": [
  {
   "cell_type": "code",
   "execution_count": 2,
   "metadata": {},
   "outputs": [],
   "source": [
    "from typing import List, Dict\n",
    "from collections import Counter\n",
    "import torch\n",
    "import math"
   ]
  },
  {
   "cell_type": "code",
   "execution_count": 8,
   "metadata": {},
   "outputs": [
    {
     "name": "stdout",
     "output_type": "stream",
     "text": [
      "[tensor([10.]), tensor([20.])]\n"
     ]
    }
   ],
   "source": [
    "bo = {0: torch.Tensor([10]), 1: torch.Tensor([20])}\n",
    "box = list(bo.values())\n",
    "print(box)\n"
   ]
  },
  {
   "cell_type": "code",
   "execution_count": 20,
   "metadata": {},
   "outputs": [
    {
     "name": "stdout",
     "output_type": "stream",
     "text": [
      "<class 'int'>\n"
     ]
    }
   ],
   "source": [
    "to = torch.ones(2)\n",
    "to[1] = 2\n",
    "cosa = (torch.argmax(to)).item()\n",
    "print(type(cosa))"
   ]
  },
  {
   "cell_type": "code",
   "execution_count": 3,
   "metadata": {},
   "outputs": [
    {
     "name": "stdout",
     "output_type": "stream",
     "text": [
      "0\n",
      "tensor([-1.0555])\n",
      "1\n",
      "tensor([0.8684])\n",
      "2\n",
      "tensor([1.6153])\n",
      "3\n",
      "tensor([-1.3084])\n",
      "4\n",
      "tensor([-0.6422])\n",
      "5\n",
      "tensor([0.1375])\n",
      "6\n",
      "tensor([-0.5112])\n",
      "7\n",
      "tensor([0.8743])\n",
      "8\n",
      "tensor([1.1818])\n",
      "9\n",
      "tensor([-2.0717])\n"
     ]
    }
   ],
   "source": [
    "params: torch.Tensor = torch.randn(9 + 1, 1)\n",
    "for idx, count in enumerate(params):\n",
    "    print(idx)\n",
    "    print(count)"
   ]
  },
  {
   "cell_type": "code",
   "execution_count": 20,
   "metadata": {},
   "outputs": [
    {
     "data": {
      "text/plain": [
       "tensor([1., 2., 1.])"
      ]
     },
     "execution_count": 20,
     "metadata": {},
     "output_type": "execute_result"
    }
   ],
   "source": [
    "features = torch.tensor([[1, 1, 0], [0, 1, 1], [1, 0, 1]], dtype=torch.float32)\n",
    "labels = torch.tensor([0, 1, 1], dtype=torch.float32)\n",
    "features@(labels.T)"
   ]
  }
 ],
 "metadata": {
  "kernelspec": {
   "display_name": "Python 3",
   "language": "python",
   "name": "python3"
  },
  "language_info": {
   "codemirror_mode": {
    "name": "ipython",
    "version": 3
   },
   "file_extension": ".py",
   "mimetype": "text/x-python",
   "name": "python",
   "nbconvert_exporter": "python",
   "pygments_lexer": "ipython3",
   "version": "3.9.12"
  }
 },
 "nbformat": 4,
 "nbformat_minor": 2
}
